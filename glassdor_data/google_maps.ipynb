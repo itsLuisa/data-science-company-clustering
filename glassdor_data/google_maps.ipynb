{
 "cells": [
  {
   "cell_type": "code",
   "execution_count": 1,
   "metadata": {},
   "outputs": [],
   "source": [
    "with open('apikey.txt') as f:\n",
    "    api_key = f.readline()\n",
    "    f.close"
   ]
  },
  {
   "cell_type": "code",
   "execution_count": 2,
   "metadata": {},
   "outputs": [],
   "source": [
    "import gmaps\n",
    "gmaps.configure(api_key=api_key)"
   ]
  },
  {
   "cell_type": "code",
   "execution_count": 3,
   "metadata": {},
   "outputs": [
    {
     "data": {
      "application/vnd.jupyter.widget-view+json": {
       "model_id": "7736a95bace24f9c9814179d914eb96d",
       "version_major": 2,
       "version_minor": 0
      },
      "text/plain": [
       "Figure(layout=FigureLayout(height='420px'))"
      ]
     },
     "metadata": {},
     "output_type": "display_data"
    }
   ],
   "source": [
    "new_york_coordinates = (40.75, -74.00)\n",
    "gmaps.figure(center=new_york_coordinates, zoom_level=12)"
   ]
  },
  {
   "cell_type": "code",
   "execution_count": 7,
   "metadata": {},
   "outputs": [
    {
     "data": {
      "text/plain": [
       "dict_keys(['address_components', 'formatted_address', 'geometry', 'partial_match', 'place_id', 'plus_code', 'types'])"
      ]
     },
     "execution_count": 7,
     "metadata": {},
     "output_type": "execute_result"
    }
   ],
   "source": [
    "import googlemaps\n",
    "from datetime import datetime\n",
    "\n",
    "gmaps = googlemaps.Client(key=api_key)\n",
    "\n",
    "# Geocoding an address\n",
    "geocode_result = gmaps.geocode('Onroad Saarland')\n",
    "geocode_result[0].keys()"
   ]
  },
  {
   "cell_type": "code",
   "execution_count": 14,
   "metadata": {},
   "outputs": [
    {
     "data": {
      "text/plain": [
       "{'company_name': 'Kern (Germany)',\n",
       " 'rating': '4.0',\n",
       " 'reviews': {'url': '/Reviews/Kern-Germany-Reviews-E1406719.htm',\n",
       "  'count': '10'},\n",
       " 'salaries': {'url': '/Salary/Kern-Germany-Salaries-E1406719.htm',\n",
       "  'count': '--'},\n",
       " 'jobs': {'url': '/Jobs/Kern-Germany-Jobs-E1406719.htm', 'count': '--'},\n",
       " 'location': 'Saarland',\n",
       " 'size': '1 to 50 Employees',\n",
       " 'industry': 'Enterprise Software & Network Solutions'}"
      ]
     },
     "execution_count": 14,
     "metadata": {},
     "output_type": "execute_result"
    }
   ],
   "source": [
    "import json\n",
    "with open('glassdoor_data.json','r', encoding='utf-8') as f:\n",
    "    final_data = json.load(f)\n",
    "final_data[0]"
   ]
  },
  {
   "cell_type": "code",
   "execution_count": 17,
   "metadata": {},
   "outputs": [
    {
     "name": "stdout",
     "output_type": "stream",
     "text": [
      "2\n",
      "2\n",
      "2\n",
      "2\n",
      "2\n",
      "0\n",
      "2\n",
      "2\n",
      "2\n",
      "2\n",
      "2\n",
      "2\n",
      "2\n",
      "2\n",
      "2\n",
      "2\n",
      "2\n",
      "2\n",
      "2\n",
      "2\n",
      "2\n",
      "2\n",
      "2\n",
      "0\n",
      "2\n",
      "2\n",
      "0\n",
      "2\n"
     ]
    }
   ],
   "source": [
    "for i in range(len(final_data)):\n",
    "    geocode_result = gmaps.geocode(f\"{final_data[i]['company_name']} {final_data[i]['location']}\")\n",
    "    if len(geocode_result) != 0:\n",
    "        final_data[i]['gmaps_location']  = geocode_result[0]\n",
    "    else:\n",
    "        final_data[i]['gmaps_location']  = None\n",
    "\n",
    "    if len(geocode_result) > 1: print(len(geocode_result))\n",
    "    if len(geocode_result) == 0: print(len(geocode_result))\n"
   ]
  },
  {
   "cell_type": "code",
   "execution_count": 18,
   "metadata": {},
   "outputs": [],
   "source": [
    "import json\n",
    "with open('glassdoor_data_with_gmaps.json','w', encoding='utf-8') as f:\n",
    "    json.dump(final_data,f, ensure_ascii=False, indent=4)"
   ]
  },
  {
   "cell_type": "code",
   "execution_count": null,
   "metadata": {},
   "outputs": [],
   "source": []
  }
 ],
 "metadata": {
  "kernelspec": {
   "display_name": "Python 3",
   "language": "python",
   "name": "python3"
  },
  "language_info": {
   "codemirror_mode": {
    "name": "ipython",
    "version": 3
   },
   "file_extension": ".py",
   "mimetype": "text/x-python",
   "name": "python",
   "nbconvert_exporter": "python",
   "pygments_lexer": "ipython3",
   "version": "3.9.9"
  },
  "orig_nbformat": 4
 },
 "nbformat": 4,
 "nbformat_minor": 2
}

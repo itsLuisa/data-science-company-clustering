{
 "cells": [
  {
   "cell_type": "code",
   "execution_count": 2,
   "metadata": {},
   "outputs": [],
   "source": [
    "import requests\n",
    "from bs4 import BeautifulSoup"
   ]
  },
  {
   "cell_type": "code",
   "execution_count": 36,
   "metadata": {},
   "outputs": [],
   "source": [
    "url = \"https://www.glassdoor.com/Explore/browse-companies.htm?overall_rating_low=1&page=1&locId=4687&locType=S&locName=Saarland&filterType=RATING_OVERALL\"\n",
    "\n",
    "url2 = \"https://www.glassdoor.com/Explore/browse-companies.htm?overall_rating_low=1&page=2&locId=4687&locType=S&locName=Saarland&filterType=RATING_OVERALL\""
   ]
  },
  {
   "cell_type": "code",
   "execution_count": null,
   "metadata": {},
   "outputs": [],
   "source": []
  },
  {
   "cell_type": "code",
   "execution_count": 37,
   "metadata": {},
   "outputs": [],
   "source": [
    "data = []"
   ]
  },
  {
   "cell_type": "code",
   "execution_count": 71,
   "metadata": {},
   "outputs": [
    {
     "name": "stdout",
     "output_type": "stream",
     "text": [
      "74\n",
      "10\n",
      "10\n",
      "--------------------\n",
      "10\n",
      "20\n",
      "--------------------\n",
      "10\n",
      "30\n",
      "--------------------\n",
      "10\n",
      "40\n",
      "--------------------\n",
      "10\n",
      "50\n",
      "--------------------\n",
      "10\n",
      "60\n",
      "--------------------\n",
      "10\n",
      "70\n",
      "--------------------\n",
      "4\n",
      "74\n",
      "--------------------\n"
     ]
    }
   ],
   "source": [
    "from bs4 import BeautifulSoup\n",
    "import time\n",
    "from selenium import webdriver\n",
    "from webdriver_manager.chrome import ChromeDriverManager\n",
    "import random\n",
    "\n",
    "browser = webdriver.Chrome(ChromeDriverManager().install())\n",
    "\n",
    "url = \"https://www.glassdoor.com/Explore/browse-companies.htm?overall_rating_low=4.5&page={}&locId=4687&locType=S&locName=Saarland&filterType=RATING_OVERALL\"\n",
    "\n",
    "page_num = 1\n",
    "i = 0\n",
    "\n",
    "all_data_html = []\n",
    "\n",
    "while i < page_num:\n",
    "    i += 1\n",
    "    page = browser.get(url.format(str(i)))\n",
    "    soup = BeautifulSoup(browser.page_source, 'html.parser')\n",
    "    if page_num == 1:\n",
    "        results_count = soup.find('span',{'class':'resultCount css-56kyx5'}).find_all('strong')[-1].text\n",
    "        results_count = int(results_count)\n",
    "        print(results_count)\n",
    "\n",
    "        page_num = results_count // 10\n",
    "\n",
    "        if results_count % 10 != 0:\n",
    "            page_num+=1\n",
    "\n",
    "    \n",
    "    rows = soup.find('div',{'id':'Explore'}).find('div',{'class':'row'}).find('div',{'class':'col-md-8'}).find_all('div',{'class':'row d-flex flex-wrap'})\n",
    "    print(len(rows))\n",
    "    all_data_html.extend(rows)\n",
    "    print(len(set(all_data_html)))\n",
    "    print('-'*20)\n",
    "    time.sleep(random.choice([2,4,6,8,12]))\n",
    "\n",
    "    \n",
    "\n",
    "\n",
    "\n",
    "\n",
    "\n",
    "\n",
    "\n"
   ]
  },
  {
   "cell_type": "code",
   "execution_count": 72,
   "metadata": {},
   "outputs": [
    {
     "name": "stdout",
     "output_type": "stream",
     "text": [
      "74\n"
     ]
    }
   ],
   "source": [
    "print(len(all_data_html))"
   ]
  },
  {
   "cell_type": "code",
   "execution_count": 73,
   "metadata": {},
   "outputs": [],
   "source": [
    "data.extend(all_data_html)"
   ]
  },
  {
   "cell_type": "code",
   "execution_count": 74,
   "metadata": {},
   "outputs": [],
   "source": [
    "# import pickle\n",
    "# with open('data.1.pkl','wb') as f:\n",
    "#     pickle.dump(all_data_html,f)"
   ]
  },
  {
   "cell_type": "code",
   "execution_count": 75,
   "metadata": {},
   "outputs": [
    {
     "name": "stdout",
     "output_type": "stream",
     "text": [
      "2740\n"
     ]
    }
   ],
   "source": [
    "print(len(data))"
   ]
  },
  {
   "cell_type": "code",
   "execution_count": 76,
   "metadata": {},
   "outputs": [
    {
     "name": "stdout",
     "output_type": "stream",
     "text": [
      "608\n"
     ]
    }
   ],
   "source": [
    "print(len(set(data)))"
   ]
  },
  {
   "cell_type": "code",
   "execution_count": 77,
   "metadata": {},
   "outputs": [],
   "source": [
    "record = data[0]"
   ]
  },
  {
   "cell_type": "code",
   "execution_count": 88,
   "metadata": {},
   "outputs": [
    {
     "data": {
      "text/plain": [
       "{'company_name': 'SAP',\n",
       " 'rating': '4.4',\n",
       " 'reviews': {'url': '/Reviews/SAP-Reviews-E10471.htm', 'count': '27.9K'},\n",
       " 'salaries': {'url': '/Salary/SAP-Salaries-E10471.htm', 'count': '12K'},\n",
       " 'jobs': {'url': '/Jobs/SAP-Jobs-E10471.htm', 'count': '1.9K'},\n",
       " 'location': '10000+ Employees',\n",
       " 'industry': 'Enterprise Software & Network Solutions',\n",
       " 'description': 'As market leader in enterprise application software, SAP helps companies of all sizes and industries run better. \\n\\nFrom back office to boardroom, warehouse to storefront, desktop to mobile device – SAP empowers people and organizations to work together more efficiently and use business insight more effectively to stay ahead of the competition. SAP helps simplify technology for companies of all sizes so they can consume our software the way they want – and without disruption. With an extensive global network of customers, partners, employees, and thought leaders around the world, SAP helps the world run better and improve people’s lives. \\n\\nFor more information, visit https://jobs.sap.com'}"
      ]
     },
     "execution_count": 88,
     "metadata": {},
     "output_type": "execute_result"
    }
   ],
   "source": [
    "{\n",
    "    'company_name':record.find('h2',{'data-test':'employer-short-name'}).text,\n",
    "    'rating':record.find('span',{'data-test':'rating'}).text,\n",
    "    'reviews':{\n",
    "        'url':record.find('a',{'data-test':'cell-Reviews-url'})['href'],\n",
    "        'count':record.find('h3',{'data-test':'cell-Reviews-count'}).text\n",
    "               },\n",
    "    'salaries':{\n",
    "        'url':record.find('a',{'data-test':'cell-Salaries-url'})['href'],\n",
    "        'count':record.find('h3',{'data-test':'cell-Salaries-count'}).text\n",
    "               },\n",
    "    'jobs':{\n",
    "        'url':record.find('a',{'data-test':'cell-Jobs-url'})['href'],\n",
    "        'count':record.find('h3',{'data-test':'cell-Jobs-count'}).text\n",
    "               },\n",
    "    'location':record.find('span',{'data-test':'employer-location'}).text,\n",
    "    'location':record.find('span',{'data-test':'employer-size'}).text,\n",
    "    'industry':record.find('span',{'data-test':'employer-industry'}).text,\n",
    "    'description':record.find('p',{'class':'css-1sj9xzx css-56kyx5'}).text\n",
    "    \n",
    "}"
   ]
  },
  {
   "cell_type": "code",
   "execution_count": 96,
   "metadata": {},
   "outputs": [],
   "source": [
    "final_data = []\n",
    "data2 = set(data)\n",
    "for record in data2:\n",
    "    tmp = {\n",
    "            'company_name':record.find('h2',{'data-test':'employer-short-name'}).text,\n",
    "            'rating':record.find('span',{'data-test':'rating'}).text,\n",
    "            'reviews':{\n",
    "                'url':record.find('a',{'data-test':'cell-Reviews-url'})['href'],\n",
    "                'count':record.find('h3',{'data-test':'cell-Reviews-count'}).text\n",
    "                    },\n",
    "            'salaries':{\n",
    "                'url':record.find('a',{'data-test':'cell-Salaries-url'})['href'],\n",
    "                'count':record.find('h3',{'data-test':'cell-Salaries-count'}).text\n",
    "                    },\n",
    "            'jobs':{\n",
    "                'url':record.find('a',{'data-test':'cell-Jobs-url'})['href'],\n",
    "                'count':record.find('h3',{'data-test':'cell-Jobs-count'}).text\n",
    "                    },\n",
    "            'location':record.find('span',{'data-test':'employer-location'}).text,\n",
    "            'size':record.find('span',{'data-test':'employer-size'}).text,\n",
    "            'industry':record.find('span',{'data-test':'employer-industry'}).text\n",
    "            \n",
    "        }\n",
    "    if record.find('p',{'class':'css-1sj9xzx css-56kyx5'}):\n",
    "        tmp['description'] = record.find('p',{'class':'css-1sj9xzx css-56kyx5'}).text\n",
    "    \n",
    "    final_data.append(tmp)"
   ]
  },
  {
   "cell_type": "code",
   "execution_count": 97,
   "metadata": {},
   "outputs": [
    {
     "data": {
      "text/plain": [
       "608"
      ]
     },
     "execution_count": 97,
     "metadata": {},
     "output_type": "execute_result"
    }
   ],
   "source": [
    "len(final_data)"
   ]
  },
  {
   "cell_type": "code",
   "execution_count": 98,
   "metadata": {},
   "outputs": [
    {
     "data": {
      "text/plain": [
       "{'company_name': 'KÖTTER',\n",
       " 'rating': '3.5',\n",
       " 'reviews': {'url': '/Reviews/K%C3%96TTER-Reviews-E934151.htm', 'count': '59'},\n",
       " 'salaries': {'url': '/Salary/K%C3%96TTER-Salaries-E934151.htm', 'count': '1'},\n",
       " 'jobs': {'url': '/Jobs/K%C3%96TTER-Jobs-E934151.htm', 'count': '67'},\n",
       " 'location': 'Saarland',\n",
       " 'size': '5001 to 10000 Employees',\n",
       " 'industry': 'Security & Protective',\n",
       " 'description': 'The demands of the market change constantly. In order to stay \"on top\" of the competition, organisational and service processes must continually be analysed and optimised. Therefore, research and development at KÖTTER includes various areas, from procedures and deployment schedules through security and cleaning technology to hardware and software developments. All these innovations are pursued for the same goal: optimal quality for our customers!'}"
      ]
     },
     "execution_count": 98,
     "metadata": {},
     "output_type": "execute_result"
    }
   ],
   "source": [
    "final_data[45]"
   ]
  },
  {
   "cell_type": "code",
   "execution_count": 100,
   "metadata": {},
   "outputs": [],
   "source": [
    "import json\n",
    "with open('glassdoor_data.json','w', encoding='utf-8') as f:\n",
    "    json.dump(final_data,f) #, ensure_ascii=False, indent=4)"
   ]
  },
  {
   "cell_type": "code",
   "execution_count": null,
   "metadata": {},
   "outputs": [],
   "source": []
  }
 ],
 "metadata": {
  "kernelspec": {
   "display_name": "Python 3",
   "language": "python",
   "name": "python3"
  },
  "language_info": {
   "codemirror_mode": {
    "name": "ipython",
    "version": 3
   },
   "file_extension": ".py",
   "mimetype": "text/x-python",
   "name": "python",
   "nbconvert_exporter": "python",
   "pygments_lexer": "ipython3",
   "version": "3.9.9"
  },
  "orig_nbformat": 4
 },
 "nbformat": 4,
 "nbformat_minor": 2
}

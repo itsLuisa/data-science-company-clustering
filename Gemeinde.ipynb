{
 "cells": [
  {
   "cell_type": "code",
   "execution_count": 1,
   "id": "ca12a2da",
   "metadata": {},
   "outputs": [
    {
     "name": "stdout",
     "output_type": "stream",
     "text": [
      "         Gemeinde  Gemeindeschlüsselnummer     km²  Einwohner      Landkreis  \\\n",
      "0       Beckingen                  42111.0   51.85    14923.0  Merzig-Wadern   \n",
      "1         Bexbach                  45111.0   31.09    17482.0      Saarpfalz   \n",
      "2     Blieskastel                  45112.0  108.21    20153.0      Saarpfalz   \n",
      "3            Bous                  44122.0    7.63     6978.0      Saarlouis   \n",
      "4  Dillingen/Saar                  44111.0   22.05    19668.0      Saarlouis   \n",
      "\n",
      "  Grundstückspreise in € pro m² Land- und Forstwirtschaft, Fischerei (A)  \\\n",
      "0                        75-100                                       19   \n",
      "1                       100-150                                       17   \n",
      "2                       100-150                                       43   \n",
      "3                       100-150                                        -   \n",
      "4                       100-150                                      NaN   \n",
      "\n",
      "  Produzierendes Gewerbe (B-F) Handel, Verkehr, Gast- gewerbe (G-I)  \\\n",
      "0                          541                                  422   \n",
      "1                        1 409                                1 472   \n",
      "2                        2 178                                1 741   \n",
      "3                          657                                  744   \n",
      "4                        8 181                                1 836   \n",
      "\n",
      "  Erbrin- gung von Unternehmensdienstleistungen\\n(J-N)  \\\n",
      "0                                                244     \n",
      "1                                                762     \n",
      "2                                                281     \n",
      "3                                                103     \n",
      "4                                              1 307     \n",
      "\n",
      "  Erbringung von öffentl. u. privaten Dienstleistungen (O-U)  \\\n",
      "0                                                613           \n",
      "1                                                915           \n",
      "2                                              1 613           \n",
      "3                                                340           \n",
      "4                                              3 142           \n",
      "\n",
      "                        Industry with most employees  \\\n",
      "0  Erbringung von öffentl. u. privaten Dienstleis...   \n",
      "1               Handel, Verkehr, Gast- gewerbe (G-I)   \n",
      "2                       Produzierendes Gewerbe (B-F)   \n",
      "3               Handel, Verkehr, Gast- gewerbe (G-I)   \n",
      "4                       Produzierendes Gewerbe (B-F)   \n",
      "\n",
      "  Number of Foreigners per Gemeinde Foreigners as % of Population  \\\n",
      "0                               194                           6,7   \n",
      "1                               521                           7,0   \n",
      "2                               631                           5,6   \n",
      "3                               216                          13,0   \n",
      "4                             1 532                          16,9   \n",
      "\n",
      "   Raw population Gain or Loss Per 1000 Inhabitants  \n",
      "0                        140.0                + 9,4  \n",
      "1                         41.0                + 2,3  \n",
      "2                         -9.0                - 0,4  \n",
      "3                         55.0                + 7,9  \n",
      "4                         58.0                + 2,9  \n"
     ]
    }
   ],
   "source": [
    "import pandas as pd\n",
    "\n",
    "\n",
    "with open(r\"C:\\Users\\user\\Desktop\\master_df.csv\", encoding='utf8', errors= 'ignore') as f:\n",
    "    df = pd.read_csv(f)\n",
    "    print(df.head())"
   ]
  },
  {
   "cell_type": "code",
   "execution_count": 2,
   "id": "db5592e5",
   "metadata": {},
   "outputs": [
    {
     "name": "stdout",
     "output_type": "stream",
     "text": [
      "6\n"
     ]
    }
   ],
   "source": [
    "import pandas as pd\n",
    "\n",
    "# Assuming you have a DataFrame named 'df'\n",
    "unique_values = df['Landkreis'].nunique()\n",
    "\n",
    "print(unique_values)\n"
   ]
  },
  {
   "cell_type": "code",
   "execution_count": 3,
   "id": "c174cf42",
   "metadata": {},
   "outputs": [
    {
     "name": "stdout",
     "output_type": "stream",
     "text": [
      "58\n"
     ]
    }
   ],
   "source": [
    "import pandas as pd\n",
    "\n",
    "# Assuming you have a DataFrame named 'df'\n",
    "unique_values = df['Gemeinde'].nunique()\n",
    "\n",
    "print(unique_values)\n"
   ]
  },
  {
   "cell_type": "code",
   "execution_count": 4,
   "id": "5395715d",
   "metadata": {},
   "outputs": [
    {
     "data": {
      "text/plain": [
       "<bound method Index.unique of Index(['Gemeinde', 'Gemeindeschlüsselnummer', 'km²', 'Einwohner', 'Landkreis',\n",
       "       'Grundstückspreise in € pro m²',\n",
       "       'Land- und Forstwirtschaft, Fischerei (A)',\n",
       "       'Produzierendes Gewerbe (B-F)', 'Handel, Verkehr, Gast- gewerbe (G-I)',\n",
       "       'Erbrin- gung von Unternehmensdienstleistungen\\n(J-N)',\n",
       "       'Erbringung von öffentl. u. privaten Dienstleistungen (O-U)',\n",
       "       'Industry with most employees', 'Number of Foreigners per Gemeinde',\n",
       "       'Foreigners as % of Population', 'Raw population Gain or Loss',\n",
       "       'Per 1000 Inhabitants'],\n",
       "      dtype='object')>"
      ]
     },
     "execution_count": 4,
     "metadata": {},
     "output_type": "execute_result"
    }
   ],
   "source": [
    "df.columns.unique\n"
   ]
  },
  {
   "cell_type": "code",
   "execution_count": 5,
   "id": "eda2006e",
   "metadata": {},
   "outputs": [],
   "source": [
    "df.rename(columns={'Gemeinde': 'Municipality'}, inplace=True)\n",
    "df.rename(columns={'Gemeindeschlüsselnummer': 'Community Key Number'}, inplace=True)\n",
    "df.rename(columns={'km²': 'Municipal size (km²)'}, inplace=True)\n",
    "df.rename(columns={'Einwohner': 'Population'}, inplace=True)\n",
    "df.rename(columns={'Grundstückspreise in € pro m²': 'Property prices in € per m²'}, inplace=True)\n",
    "df.rename(columns={'Number of Foreigners per Gemeinde': 'Number of Foreigners per Municipality'}, inplace=True)\n",
    "df.rename(columns={'Per 1000 Inhabitants': 'Population gain or Loss per 1000 Inhabitants'}, inplace=True)"
   ]
  },
  {
   "cell_type": "code",
   "execution_count": 6,
   "id": "509d5984",
   "metadata": {},
   "outputs": [],
   "source": [
    "df = df.drop('Landkreis', axis=1)"
   ]
  },
  {
   "cell_type": "code",
   "execution_count": 9,
   "id": "e9a611c0",
   "metadata": {},
   "outputs": [],
   "source": [
    "df = df.drop('Land- und Forstwirtschaft, Fischerei (A)', axis=1)\n",
    "df = df.drop('Produzierendes Gewerbe (B-F)', axis=1)\n",
    "df = df.drop('Handel, Verkehr, Gast- gewerbe (G-I)', axis=1)\n",
    "df= df.drop('Erbrin- gung von Unternehmensdienstleistungen\\n(J-N)', axis=1)\n",
    "df= df.drop('Erbringung von öffentl. u. privaten Dienstleistungen (O-U)', axis=1)"
   ]
  },
  {
   "cell_type": "code",
   "execution_count": 10,
   "id": "b185748d",
   "metadata": {},
   "outputs": [
    {
     "data": {
      "text/plain": [
       "<bound method Index.unique of Index(['Municipality', 'Community Key Number', 'Municipal size (km²)',\n",
       "       'Population', 'Property prices in € per m²',\n",
       "       'Industry with most employees', 'Number of Foreigners per Municipality',\n",
       "       'Foreigners as % of Population', 'Raw population Gain or Loss',\n",
       "       'Population gain or Loss per 1000 Inhabitants'],\n",
       "      dtype='object')>"
      ]
     },
     "execution_count": 10,
     "metadata": {},
     "output_type": "execute_result"
    }
   ],
   "source": [
    "df.columns.unique"
   ]
  },
  {
   "cell_type": "code",
   "execution_count": null,
   "id": "33660cf6",
   "metadata": {},
   "outputs": [],
   "source": []
  }
 ],
 "metadata": {
  "kernelspec": {
   "display_name": "Python 3 (ipykernel)",
   "language": "python",
   "name": "python3"
  },
  "language_info": {
   "codemirror_mode": {
    "name": "ipython",
    "version": 3
   },
   "file_extension": ".py",
   "mimetype": "text/x-python",
   "name": "python",
   "nbconvert_exporter": "python",
   "pygments_lexer": "ipython3",
   "version": "3.10.9"
  }
 },
 "nbformat": 4,
 "nbformat_minor": 5
}

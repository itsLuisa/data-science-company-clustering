{
 "cells": [
  {
   "cell_type": "code",
   "execution_count": 194,
   "id": "ec164325",
   "metadata": {},
   "outputs": [
    {
     "name": "stdout",
     "output_type": "stream",
     "text": [
      "   Unnamed: 0         company_name  rating  \\\n",
      "0           0       Kern (Germany)     4.0   \n",
      "1           1                VIPFY     5.0   \n",
      "2           2  Contact Air Technik     5.0   \n",
      "3           3            MENetatis     4.1   \n",
      "4           4    NEUE HALBERG-GUSS     3.4   \n",
      "\n",
      "                                             reviews  \\\n",
      "0  {'url': '/Reviews/Kern-Germany-Reviews-E140671...   \n",
      "1  {'url': '/Reviews/VIPFY-Reviews-E4353306.htm',...   \n",
      "2  {'url': '/Reviews/Contact-Air-Technik-Reviews-...   \n",
      "3  {'url': '/Reviews/MENetatis-Reviews-E2867888.h...   \n",
      "4  {'url': '/Reviews/NEUE-HALBERG-GUSS-Reviews-E9...   \n",
      "\n",
      "                                            salaries  \\\n",
      "0  {'url': '/Salary/Kern-Germany-Salaries-E140671...   \n",
      "1  {'url': '/Salary/VIPFY-Salaries-E4353306.htm',...   \n",
      "2  {'url': '/Salary/Contact-Air-Technik-Salaries-...   \n",
      "3  {'url': '/Salary/MENetatis-Salaries-E2867888.h...   \n",
      "4  {'url': '/Salary/NEUE-HALBERG-GUSS-Salaries-E9...   \n",
      "\n",
      "                                                jobs  location  \\\n",
      "0  {'url': '/Jobs/Kern-Germany-Jobs-E1406719.htm'...  Saarland   \n",
      "1  {'url': '/Jobs/VIPFY-Jobs-E4353306.htm', 'coun...  Saarland   \n",
      "2  {'url': '/Jobs/Contact-Air-Technik-Jobs-E53098...  Saarland   \n",
      "3  {'url': '/Jobs/MENetatis-Jobs-E2867888.htm', '...  Saarland   \n",
      "4  {'url': '/Jobs/NEUE-HALBERG-GUSS-Jobs-E935319....  Saarland   \n",
      "\n",
      "                     size                                 industry description  \n",
      "0       1 to 50 Employees  Enterprise Software & Network Solutions         NaN  \n",
      "1       1 to 50 Employees                                      NaN         NaN  \n",
      "2                 Unknown                                      NaN         NaN  \n",
      "3                 Unknown                                      NaN         NaN  \n",
      "4  1001 to 5000 Employees   Transportation Equipment Manufacturing         NaN  \n"
     ]
    }
   ],
   "source": [
    "import pandas as pd\n",
    "\n",
    "\n",
    "with open(r\"C:\\Users\\user\\Desktop\\glassdoor_data.csv\", encoding='utf8', errors= 'ignore') as f:\n",
    "    data = pd.read_csv(f)\n",
    "    print(data.head())\n"
   ]
  },
  {
   "cell_type": "code",
   "execution_count": 195,
   "id": "8d50cad0",
   "metadata": {},
   "outputs": [
    {
     "data": {
      "text/html": [
       "<div>\n",
       "<style scoped>\n",
       "    .dataframe tbody tr th:only-of-type {\n",
       "        vertical-align: middle;\n",
       "    }\n",
       "\n",
       "    .dataframe tbody tr th {\n",
       "        vertical-align: top;\n",
       "    }\n",
       "\n",
       "    .dataframe thead th {\n",
       "        text-align: right;\n",
       "    }\n",
       "</style>\n",
       "<table border=\"1\" class=\"dataframe\">\n",
       "  <thead>\n",
       "    <tr style=\"text-align: right;\">\n",
       "      <th></th>\n",
       "      <th>company_name</th>\n",
       "      <th>rating</th>\n",
       "      <th>reviews</th>\n",
       "      <th>salaries</th>\n",
       "      <th>jobs</th>\n",
       "      <th>location</th>\n",
       "      <th>size</th>\n",
       "      <th>industry</th>\n",
       "      <th>description</th>\n",
       "    </tr>\n",
       "  </thead>\n",
       "  <tbody>\n",
       "    <tr>\n",
       "      <th>0</th>\n",
       "      <td>Kern (Germany)</td>\n",
       "      <td>4.0</td>\n",
       "      <td>{'url': '/Reviews/Kern-Germany-Reviews-E140671...</td>\n",
       "      <td>{'url': '/Salary/Kern-Germany-Salaries-E140671...</td>\n",
       "      <td>{'url': '/Jobs/Kern-Germany-Jobs-E1406719.htm'...</td>\n",
       "      <td>Saarland</td>\n",
       "      <td>1 to 50 Employees</td>\n",
       "      <td>Enterprise Software &amp; Network Solutions</td>\n",
       "      <td>NaN</td>\n",
       "    </tr>\n",
       "    <tr>\n",
       "      <th>1</th>\n",
       "      <td>VIPFY</td>\n",
       "      <td>5.0</td>\n",
       "      <td>{'url': '/Reviews/VIPFY-Reviews-E4353306.htm',...</td>\n",
       "      <td>{'url': '/Salary/VIPFY-Salaries-E4353306.htm',...</td>\n",
       "      <td>{'url': '/Jobs/VIPFY-Jobs-E4353306.htm', 'coun...</td>\n",
       "      <td>Saarland</td>\n",
       "      <td>1 to 50 Employees</td>\n",
       "      <td>NaN</td>\n",
       "      <td>NaN</td>\n",
       "    </tr>\n",
       "    <tr>\n",
       "      <th>2</th>\n",
       "      <td>Contact Air Technik</td>\n",
       "      <td>5.0</td>\n",
       "      <td>{'url': '/Reviews/Contact-Air-Technik-Reviews-...</td>\n",
       "      <td>{'url': '/Salary/Contact-Air-Technik-Salaries-...</td>\n",
       "      <td>{'url': '/Jobs/Contact-Air-Technik-Jobs-E53098...</td>\n",
       "      <td>Saarland</td>\n",
       "      <td>Unknown</td>\n",
       "      <td>NaN</td>\n",
       "      <td>NaN</td>\n",
       "    </tr>\n",
       "    <tr>\n",
       "      <th>3</th>\n",
       "      <td>MENetatis</td>\n",
       "      <td>4.1</td>\n",
       "      <td>{'url': '/Reviews/MENetatis-Reviews-E2867888.h...</td>\n",
       "      <td>{'url': '/Salary/MENetatis-Salaries-E2867888.h...</td>\n",
       "      <td>{'url': '/Jobs/MENetatis-Jobs-E2867888.htm', '...</td>\n",
       "      <td>Saarland</td>\n",
       "      <td>Unknown</td>\n",
       "      <td>NaN</td>\n",
       "      <td>NaN</td>\n",
       "    </tr>\n",
       "    <tr>\n",
       "      <th>4</th>\n",
       "      <td>NEUE HALBERG-GUSS</td>\n",
       "      <td>3.4</td>\n",
       "      <td>{'url': '/Reviews/NEUE-HALBERG-GUSS-Reviews-E9...</td>\n",
       "      <td>{'url': '/Salary/NEUE-HALBERG-GUSS-Salaries-E9...</td>\n",
       "      <td>{'url': '/Jobs/NEUE-HALBERG-GUSS-Jobs-E935319....</td>\n",
       "      <td>Saarland</td>\n",
       "      <td>1001 to 5000 Employees</td>\n",
       "      <td>Transportation Equipment Manufacturing</td>\n",
       "      <td>NaN</td>\n",
       "    </tr>\n",
       "  </tbody>\n",
       "</table>\n",
       "</div>"
      ],
      "text/plain": [
       "          company_name  rating  \\\n",
       "0       Kern (Germany)     4.0   \n",
       "1                VIPFY     5.0   \n",
       "2  Contact Air Technik     5.0   \n",
       "3            MENetatis     4.1   \n",
       "4    NEUE HALBERG-GUSS     3.4   \n",
       "\n",
       "                                             reviews  \\\n",
       "0  {'url': '/Reviews/Kern-Germany-Reviews-E140671...   \n",
       "1  {'url': '/Reviews/VIPFY-Reviews-E4353306.htm',...   \n",
       "2  {'url': '/Reviews/Contact-Air-Technik-Reviews-...   \n",
       "3  {'url': '/Reviews/MENetatis-Reviews-E2867888.h...   \n",
       "4  {'url': '/Reviews/NEUE-HALBERG-GUSS-Reviews-E9...   \n",
       "\n",
       "                                            salaries  \\\n",
       "0  {'url': '/Salary/Kern-Germany-Salaries-E140671...   \n",
       "1  {'url': '/Salary/VIPFY-Salaries-E4353306.htm',...   \n",
       "2  {'url': '/Salary/Contact-Air-Technik-Salaries-...   \n",
       "3  {'url': '/Salary/MENetatis-Salaries-E2867888.h...   \n",
       "4  {'url': '/Salary/NEUE-HALBERG-GUSS-Salaries-E9...   \n",
       "\n",
       "                                                jobs  location  \\\n",
       "0  {'url': '/Jobs/Kern-Germany-Jobs-E1406719.htm'...  Saarland   \n",
       "1  {'url': '/Jobs/VIPFY-Jobs-E4353306.htm', 'coun...  Saarland   \n",
       "2  {'url': '/Jobs/Contact-Air-Technik-Jobs-E53098...  Saarland   \n",
       "3  {'url': '/Jobs/MENetatis-Jobs-E2867888.htm', '...  Saarland   \n",
       "4  {'url': '/Jobs/NEUE-HALBERG-GUSS-Jobs-E935319....  Saarland   \n",
       "\n",
       "                     size                                 industry description  \n",
       "0       1 to 50 Employees  Enterprise Software & Network Solutions         NaN  \n",
       "1       1 to 50 Employees                                      NaN         NaN  \n",
       "2                 Unknown                                      NaN         NaN  \n",
       "3                 Unknown                                      NaN         NaN  \n",
       "4  1001 to 5000 Employees   Transportation Equipment Manufacturing         NaN  "
      ]
     },
     "execution_count": 195,
     "metadata": {},
     "output_type": "execute_result"
    }
   ],
   "source": [
    "data = data.drop(data.columns[0], axis=1)\n",
    "data.head()"
   ]
  },
  {
   "cell_type": "code",
   "execution_count": 196,
   "id": "f7fa0ca2",
   "metadata": {
    "scrolled": true
   },
   "outputs": [
    {
     "name": "stdout",
     "output_type": "stream",
     "text": [
      "['Enterprise Software & Network Solutions' nan\n",
      " 'Transportation Equipment Manufacturing' 'Drug & Health Stores'\n",
      " 'Aerospace & Defense' 'Colleges & Universities' 'Internet & Web Services'\n",
      " 'Machinery Manufacturing' 'Primary & Secondary Schools'\n",
      " 'Department, Clothing & Shoe Stores' 'Banking & Lending' 'Grocery Stores'\n",
      " 'Automotive Parts & Accessories Stores' 'Consumer Product Manufacturing'\n",
      " 'Electronics Manufacturing' 'Energy & Utilities' 'Municipal Agencies'\n",
      " 'Information Technology Support Services' 'Education & Training Services'\n",
      " 'Security & Protective' 'HR Consulting' 'Civic & Social Services'\n",
      " 'Health Care Services & Hospitals' 'Research & Development'\n",
      " 'Other Retail Stores' 'Consumer Electronics & Appliances Stores'\n",
      " 'Biotech & Pharmaceuticals' 'Home Furniture & Housewares Stores'\n",
      " 'Vehicle Dealers' 'Financial Transaction Processing'\n",
      " 'Food & Beverage Manufacturing' 'Consumer Product Rental'\n",
      " 'Taxi & Car Services' 'Gambling' 'National Agencies'\n",
      " 'Telecommunications Services' 'Insurance Carriers' 'Business Consulting'\n",
      " 'Building & Personnel Services' 'Beauty & Personal Accessories Stores'\n",
      " 'Stock Exchanges' 'Hotels & Resorts' 'Health Care Products Manufacturing'\n",
      " 'Restaurants & Cafes' 'Media & Entertainment Stores'\n",
      " 'Staffing & Subcontracting' 'State & Regional Agencies'\n",
      " 'Nursing Care Facilities' 'Shipping & Trucking' 'Food & Beverage Stores'\n",
      " 'Architectural & Engineering Services' 'General Repair & Maintenance'\n",
      " 'General Merchandise & Superstores' 'Metal & Mineral Manufacturing'\n",
      " 'Grantmaking & Charitable Foundations' 'Culture & Entertainment'\n",
      " 'Accounting & Tax' 'Computer Hardware Development' 'Broadcast Media'\n",
      " 'Advertising & Public Relations' 'Construction'\n",
      " 'Catering & Food Service Contractors' 'Investment & Asset Management'\n",
      " 'Software Development' 'Real Estate' 'Sporting Goods Stores'\n",
      " 'Film Production' 'Car & Truck Rental' 'Rail Transportation'\n",
      " 'Wood & Paper Manufacturing' 'Insurance Agencies & Brokerages'\n",
      " 'Travel Agencies']\n"
     ]
    }
   ],
   "source": [
    "print(data['industry'].unique())"
   ]
  },
  {
   "cell_type": "code",
   "execution_count": 197,
   "id": "68fb00bc",
   "metadata": {},
   "outputs": [
    {
     "name": "stdout",
     "output_type": "stream",
     "text": [
      "company_name      0\n",
      "rating            0\n",
      "reviews           0\n",
      "salaries          0\n",
      "jobs              0\n",
      "location          0\n",
      "size              0\n",
      "industry        249\n",
      "description     394\n",
      "dtype: int64\n"
     ]
    },
    {
     "data": {
      "text/plain": [
       "(608, 9)"
      ]
     },
     "execution_count": 197,
     "metadata": {},
     "output_type": "execute_result"
    }
   ],
   "source": [
    "missing_values_count = data.isnull().sum()\n",
    "print(missing_values_count)\n",
    "data.shape"
   ]
  },
  {
   "cell_type": "code",
   "execution_count": 198,
   "id": "bf44bca7",
   "metadata": {},
   "outputs": [
    {
     "data": {
      "text/plain": [
       "(350, 9)"
      ]
     },
     "execution_count": 198,
     "metadata": {},
     "output_type": "execute_result"
    }
   ],
   "source": [
    "#remove empty cells and govermental jobs and other random 'industries'. I kept unis cause they are considered important in clusters\n",
    "data = data.dropna(subset = ['industry'], axis =0)\n",
    "data = data[~data['industry'].isin(['Municipal Agencies', 'Primary & Secondary Schools', 'National Agencies', 'Grantmaking & Charitable Foundations'])]\n",
    "data.shape"
   ]
  },
  {
   "cell_type": "code",
   "execution_count": 199,
   "id": "881ac2fb",
   "metadata": {
    "scrolled": false
   },
   "outputs": [
    {
     "name": "stdout",
     "output_type": "stream",
     "text": [
      "company_name      0\n",
      "rating            0\n",
      "reviews           0\n",
      "salaries          0\n",
      "jobs              0\n",
      "location          0\n",
      "size              0\n",
      "industry          0\n",
      "description     151\n",
      "dtype: int64\n"
     ]
    }
   ],
   "source": [
    "\n",
    "missing_values_count = data.isnull().sum()\n",
    "print(missing_values_count)\n",
    "#resetting index\n",
    "data = data.reset_index(drop=True)"
   ]
  },
  {
   "cell_type": "code",
   "execution_count": 200,
   "id": "88022ae7",
   "metadata": {
    "scrolled": true
   },
   "outputs": [
    {
     "data": {
      "text/plain": [
       "(341, 9)"
      ]
     },
     "execution_count": 200,
     "metadata": {},
     "output_type": "execute_result"
    }
   ],
   "source": [
    "data = data[~data['size'].isin(['Unknown'])]\n",
    "data.shape"
   ]
  },
  {
   "cell_type": "code",
   "execution_count": 202,
   "id": "35dc76c3",
   "metadata": {},
   "outputs": [
    {
     "data": {
      "text/html": [
       "<div>\n",
       "<style scoped>\n",
       "    .dataframe tbody tr th:only-of-type {\n",
       "        vertical-align: middle;\n",
       "    }\n",
       "\n",
       "    .dataframe tbody tr th {\n",
       "        vertical-align: top;\n",
       "    }\n",
       "\n",
       "    .dataframe thead th {\n",
       "        text-align: right;\n",
       "    }\n",
       "</style>\n",
       "<table border=\"1\" class=\"dataframe\">\n",
       "  <thead>\n",
       "    <tr style=\"text-align: right;\">\n",
       "      <th></th>\n",
       "      <th>company_name</th>\n",
       "      <th>rating</th>\n",
       "      <th>reviews</th>\n",
       "      <th>salaries</th>\n",
       "      <th>jobs</th>\n",
       "      <th>location</th>\n",
       "      <th>size</th>\n",
       "      <th>industry</th>\n",
       "      <th>description</th>\n",
       "    </tr>\n",
       "  </thead>\n",
       "  <tbody>\n",
       "    <tr>\n",
       "      <th>0</th>\n",
       "      <td>Kern (Germany)</td>\n",
       "      <td>4.0</td>\n",
       "      <td>{'url': '/Reviews/Kern-Germany-Reviews-E140671...</td>\n",
       "      <td>{'url': '/Salary/Kern-Germany-Salaries-E140671...</td>\n",
       "      <td>{'url': '/Jobs/Kern-Germany-Jobs-E1406719.htm'...</td>\n",
       "      <td>Saarland</td>\n",
       "      <td>1 to 50 Employees</td>\n",
       "      <td>Enterprise Software &amp; Network Solutions</td>\n",
       "      <td>NaN</td>\n",
       "    </tr>\n",
       "    <tr>\n",
       "      <th>1</th>\n",
       "      <td>NEUE HALBERG-GUSS</td>\n",
       "      <td>3.4</td>\n",
       "      <td>{'url': '/Reviews/NEUE-HALBERG-GUSS-Reviews-E9...</td>\n",
       "      <td>{'url': '/Salary/NEUE-HALBERG-GUSS-Salaries-E9...</td>\n",
       "      <td>{'url': '/Jobs/NEUE-HALBERG-GUSS-Jobs-E935319....</td>\n",
       "      <td>Saarland</td>\n",
       "      <td>1001 to 5000 Employees</td>\n",
       "      <td>Transportation Equipment Manufacturing</td>\n",
       "      <td>NaN</td>\n",
       "    </tr>\n",
       "    <tr>\n",
       "      <th>2</th>\n",
       "      <td>Müller</td>\n",
       "      <td>3.8</td>\n",
       "      <td>{'url': '/Reviews/M%C3%BCller-Reviews-E934511....</td>\n",
       "      <td>{'url': '/Salary/M%C3%BCller-Salaries-E934511....</td>\n",
       "      <td>{'url': '/Jobs/M%C3%BCller-Jobs-E934511.htm', ...</td>\n",
       "      <td>Saarland</td>\n",
       "      <td>10000+ Employees</td>\n",
       "      <td>Drug &amp; Health Stores</td>\n",
       "      <td>NaN</td>\n",
       "    </tr>\n",
       "    <tr>\n",
       "      <th>3</th>\n",
       "      <td>Ford Motor Company</td>\n",
       "      <td>4.1</td>\n",
       "      <td>{'url': '/Reviews/Ford-Motor-Company-Reviews-E...</td>\n",
       "      <td>{'url': '/Salary/Ford-Motor-Company-Salaries-E...</td>\n",
       "      <td>{'url': '/Jobs/Ford-Motor-Company-Jobs-E263.ht...</td>\n",
       "      <td>Saarland</td>\n",
       "      <td>10000+ Employees</td>\n",
       "      <td>Transportation Equipment Manufacturing</td>\n",
       "      <td>OUR PURPOSE\\nWe believe in the power of creati...</td>\n",
       "    </tr>\n",
       "    <tr>\n",
       "      <th>4</th>\n",
       "      <td>Diehl</td>\n",
       "      <td>3.6</td>\n",
       "      <td>{'url': '/Reviews/Diehl-Reviews-E10421.htm', '...</td>\n",
       "      <td>{'url': '/Salary/Diehl-Salaries-E10421.htm', '...</td>\n",
       "      <td>{'url': '/Jobs/Diehl-Jobs-E10421.htm', 'count'...</td>\n",
       "      <td>Saarland</td>\n",
       "      <td>10000+ Employees</td>\n",
       "      <td>Aerospace &amp; Defense</td>\n",
       "      <td>Diehl or no Diehl? Diehl Stiftung &amp; Co., a div...</td>\n",
       "    </tr>\n",
       "  </tbody>\n",
       "</table>\n",
       "</div>"
      ],
      "text/plain": [
       "         company_name  rating  \\\n",
       "0      Kern (Germany)     4.0   \n",
       "1   NEUE HALBERG-GUSS     3.4   \n",
       "2              Müller     3.8   \n",
       "3  Ford Motor Company     4.1   \n",
       "4               Diehl     3.6   \n",
       "\n",
       "                                             reviews  \\\n",
       "0  {'url': '/Reviews/Kern-Germany-Reviews-E140671...   \n",
       "1  {'url': '/Reviews/NEUE-HALBERG-GUSS-Reviews-E9...   \n",
       "2  {'url': '/Reviews/M%C3%BCller-Reviews-E934511....   \n",
       "3  {'url': '/Reviews/Ford-Motor-Company-Reviews-E...   \n",
       "4  {'url': '/Reviews/Diehl-Reviews-E10421.htm', '...   \n",
       "\n",
       "                                            salaries  \\\n",
       "0  {'url': '/Salary/Kern-Germany-Salaries-E140671...   \n",
       "1  {'url': '/Salary/NEUE-HALBERG-GUSS-Salaries-E9...   \n",
       "2  {'url': '/Salary/M%C3%BCller-Salaries-E934511....   \n",
       "3  {'url': '/Salary/Ford-Motor-Company-Salaries-E...   \n",
       "4  {'url': '/Salary/Diehl-Salaries-E10421.htm', '...   \n",
       "\n",
       "                                                jobs  location  \\\n",
       "0  {'url': '/Jobs/Kern-Germany-Jobs-E1406719.htm'...  Saarland   \n",
       "1  {'url': '/Jobs/NEUE-HALBERG-GUSS-Jobs-E935319....  Saarland   \n",
       "2  {'url': '/Jobs/M%C3%BCller-Jobs-E934511.htm', ...  Saarland   \n",
       "3  {'url': '/Jobs/Ford-Motor-Company-Jobs-E263.ht...  Saarland   \n",
       "4  {'url': '/Jobs/Diehl-Jobs-E10421.htm', 'count'...  Saarland   \n",
       "\n",
       "                     size                                 industry  \\\n",
       "0       1 to 50 Employees  Enterprise Software & Network Solutions   \n",
       "1  1001 to 5000 Employees   Transportation Equipment Manufacturing   \n",
       "2        10000+ Employees                     Drug & Health Stores   \n",
       "3        10000+ Employees   Transportation Equipment Manufacturing   \n",
       "4        10000+ Employees                      Aerospace & Defense   \n",
       "\n",
       "                                         description  \n",
       "0                                                NaN  \n",
       "1                                                NaN  \n",
       "2                                                NaN  \n",
       "3  OUR PURPOSE\\nWe believe in the power of creati...  \n",
       "4  Diehl or no Diehl? Diehl Stiftung & Co., a div...  "
      ]
     },
     "execution_count": 202,
     "metadata": {},
     "output_type": "execute_result"
    }
   ],
   "source": [
    "data.head()"
   ]
  },
  {
   "cell_type": "code",
   "execution_count": null,
   "id": "ffd1f9d4",
   "metadata": {},
   "outputs": [],
   "source": []
  }
 ],
 "metadata": {
  "kernelspec": {
   "display_name": "Python 3 (ipykernel)",
   "language": "python",
   "name": "python3"
  },
  "language_info": {
   "codemirror_mode": {
    "name": "ipython",
    "version": 3
   },
   "file_extension": ".py",
   "mimetype": "text/x-python",
   "name": "python",
   "nbconvert_exporter": "python",
   "pygments_lexer": "ipython3",
   "version": "3.10.9"
  }
 },
 "nbformat": 4,
 "nbformat_minor": 5
}

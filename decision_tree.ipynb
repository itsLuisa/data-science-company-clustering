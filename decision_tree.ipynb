{
 "cells": [
  {
   "cell_type": "code",
   "execution_count": 55,
   "metadata": {},
   "outputs": [],
   "source": [
    "import pandas as pd\n",
    "from sklearn import tree\n",
    "from sklearn.tree import DecisionTreeClassifier\n",
    "import matplotlib.pyplot as plt\n",
    "from collections import Counter"
   ]
  },
  {
   "cell_type": "code",
   "execution_count": 49,
   "metadata": {},
   "outputs": [
    {
     "data": {
      "text/html": [
       "<div>\n",
       "<style scoped>\n",
       "    .dataframe tbody tr th:only-of-type {\n",
       "        vertical-align: middle;\n",
       "    }\n",
       "\n",
       "    .dataframe tbody tr th {\n",
       "        vertical-align: top;\n",
       "    }\n",
       "\n",
       "    .dataframe thead th {\n",
       "        text-align: right;\n",
       "    }\n",
       "</style>\n",
       "<table border=\"1\" class=\"dataframe\">\n",
       "  <thead>\n",
       "    <tr style=\"text-align: right;\">\n",
       "      <th></th>\n",
       "      <th>Offizieller_Name</th>\n",
       "      <th>streetAddress</th>\n",
       "      <th>postalCode</th>\n",
       "      <th>addressLocality</th>\n",
       "      <th>Telefon</th>\n",
       "      <th>Email</th>\n",
       "      <th>Fax</th>\n",
       "      <th>Internet</th>\n",
       "      <th>Handelsregister</th>\n",
       "      <th>Rechtsform</th>\n",
       "      <th>...</th>\n",
       "      <th>Holding</th>\n",
       "      <th>Branche</th>\n",
       "      <th>Unternehmensgegendstand</th>\n",
       "      <th>Marken</th>\n",
       "      <th>Umsatzsteuer-Id</th>\n",
       "      <th>Mitarbeiter</th>\n",
       "      <th>Stammkapital</th>\n",
       "      <th>Umsatz</th>\n",
       "      <th>Börse</th>\n",
       "      <th>postOfficeBoxNumber</th>\n",
       "    </tr>\n",
       "  </thead>\n",
       "  <tbody>\n",
       "    <tr>\n",
       "      <th>0</th>\n",
       "      <td>Klein, Bertelt, Klein Rechtsanwälte in Partner...</td>\n",
       "      <td>Dillinger Strasse 18</td>\n",
       "      <td>66701</td>\n",
       "      <td>Beckingen</td>\n",
       "      <td>+49 (06835) 92351</td>\n",
       "      <td>info@rakbk.de</td>\n",
       "      <td>+49 (0681) 9235120</td>\n",
       "      <td>www.rakbk.de</td>\n",
       "      <td>PR 81, Amtsgericht Saarbrücken</td>\n",
       "      <td>NaN</td>\n",
       "      <td>...</td>\n",
       "      <td>NaN</td>\n",
       "      <td>Rechtsanwälte und Anwaltskanzleien</td>\n",
       "      <td>Gegenstand des Unternehmens ist die gemeinscha...</td>\n",
       "      <td>NaN</td>\n",
       "      <td>NaN</td>\n",
       "      <td>NaN</td>\n",
       "      <td>NaN</td>\n",
       "      <td>NaN</td>\n",
       "      <td>NaN</td>\n",
       "      <td>NaN</td>\n",
       "    </tr>\n",
       "    <tr>\n",
       "      <th>1</th>\n",
       "      <td>Puhl GmbH</td>\n",
       "      <td>Südstrasse 6</td>\n",
       "      <td>66701</td>\n",
       "      <td>Beckingen</td>\n",
       "      <td>+49 (06835) 9220 0</td>\n",
       "      <td>info@spedition-puhl.de</td>\n",
       "      <td>+49 (06835) 922020</td>\n",
       "      <td>www.puhl.eu</td>\n",
       "      <td>HRB 63518, Amtsgericht Saarbrücken</td>\n",
       "      <td>GmbH: Gesellschaft mit beschränkter Haftung</td>\n",
       "      <td>...</td>\n",
       "      <td>NaN</td>\n",
       "      <td>Speditionen / Bauunternehmen</td>\n",
       "      <td>NaN</td>\n",
       "      <td>NaN</td>\n",
       "      <td>DE137970178</td>\n",
       "      <td>40 in Deutschland</td>\n",
       "      <td>NaN</td>\n",
       "      <td>NaN</td>\n",
       "      <td>NaN</td>\n",
       "      <td>NaN</td>\n",
       "    </tr>\n",
       "    <tr>\n",
       "      <th>2</th>\n",
       "      <td>Cass - Tech - GmbH</td>\n",
       "      <td>Kapellenstrasse 51</td>\n",
       "      <td>66701</td>\n",
       "      <td>Beckingen</td>\n",
       "      <td>+49 (06832) 8080530</td>\n",
       "      <td>info@cass-tech.de</td>\n",
       "      <td>+49 (06832) 8080529</td>\n",
       "      <td>www.cass-tech.de</td>\n",
       "      <td>HRB 19163, Amtsgericht Saarbrücken</td>\n",
       "      <td>GmbH: Gesellschaft mit beschränkter Haftung</td>\n",
       "      <td>...</td>\n",
       "      <td>NaN</td>\n",
       "      <td>Stahlbau und Leichtmetallbau</td>\n",
       "      <td>Metallbau und Konstruktion.</td>\n",
       "      <td>NaN</td>\n",
       "      <td>NaN</td>\n",
       "      <td>NaN</td>\n",
       "      <td>25.000 Euro</td>\n",
       "      <td>NaN</td>\n",
       "      <td>NaN</td>\n",
       "      <td>NaN</td>\n",
       "    </tr>\n",
       "    <tr>\n",
       "      <th>3</th>\n",
       "      <td>Malermeister + Stuckateurbetrieb Arno Schorn GmbH</td>\n",
       "      <td>Auf Schlädt 24</td>\n",
       "      <td>66701</td>\n",
       "      <td>Beckingen</td>\n",
       "      <td>+49 (06832) 1314</td>\n",
       "      <td>info@malermeisterschorn.de</td>\n",
       "      <td>+49 (06832) 128300</td>\n",
       "      <td>www.malermeisterschorn.de</td>\n",
       "      <td>HRB 18614, Amtsgericht Saarbrücken</td>\n",
       "      <td>GmbH: Gesellschaft mit beschränkter Haftung</td>\n",
       "      <td>...</td>\n",
       "      <td>NaN</td>\n",
       "      <td>Maler und Lackierer</td>\n",
       "      <td>Gegenstand des Unternehmens ist der Betrieb ei...</td>\n",
       "      <td>NaN</td>\n",
       "      <td>NaN</td>\n",
       "      <td>NaN</td>\n",
       "      <td>25.000 Euro</td>\n",
       "      <td>NaN</td>\n",
       "      <td>NaN</td>\n",
       "      <td>NaN</td>\n",
       "    </tr>\n",
       "    <tr>\n",
       "      <th>4</th>\n",
       "      <td>FST Logistik GmbH</td>\n",
       "      <td>Auf der Heide 46 b</td>\n",
       "      <td>66701</td>\n",
       "      <td>Beckingen</td>\n",
       "      <td>+49 (06832) 8080460</td>\n",
       "      <td>luttermann@fst-gmbh.de</td>\n",
       "      <td>+49 (06832) 80563</td>\n",
       "      <td>www.fst-gmbh.de</td>\n",
       "      <td>HRB 18570, Amtsgericht Saarbrücken</td>\n",
       "      <td>GmbH: Gesellschaft mit beschränkter Haftung</td>\n",
       "      <td>...</td>\n",
       "      <td>NaN</td>\n",
       "      <td>Logistik</td>\n",
       "      <td>Gegenstand des Unternehmens ist die Durchführu...</td>\n",
       "      <td>NaN</td>\n",
       "      <td>NaN</td>\n",
       "      <td>NaN</td>\n",
       "      <td>25.000 Euro</td>\n",
       "      <td>NaN</td>\n",
       "      <td>NaN</td>\n",
       "      <td>NaN</td>\n",
       "    </tr>\n",
       "  </tbody>\n",
       "</table>\n",
       "<p>5 rows × 28 columns</p>\n",
       "</div>"
      ],
      "text/plain": [
       "                                    Offizieller_Name         streetAddress  \\\n",
       "0  Klein, Bertelt, Klein Rechtsanwälte in Partner...  Dillinger Strasse 18   \n",
       "1                                          Puhl GmbH          Südstrasse 6   \n",
       "2                                 Cass - Tech - GmbH    Kapellenstrasse 51   \n",
       "3  Malermeister + Stuckateurbetrieb Arno Schorn GmbH        Auf Schlädt 24   \n",
       "4                                  FST Logistik GmbH    Auf der Heide 46 b   \n",
       "\n",
       "   postalCode addressLocality              Telefon  \\\n",
       "0       66701       Beckingen    +49 (06835) 92351   \n",
       "1       66701       Beckingen   +49 (06835) 9220 0   \n",
       "2       66701       Beckingen  +49 (06832) 8080530   \n",
       "3       66701       Beckingen     +49 (06832) 1314   \n",
       "4       66701       Beckingen  +49 (06832) 8080460   \n",
       "\n",
       "                        Email                  Fax                   Internet  \\\n",
       "0               info@rakbk.de   +49 (0681) 9235120               www.rakbk.de   \n",
       "1      info@spedition-puhl.de   +49 (06835) 922020                www.puhl.eu   \n",
       "2           info@cass-tech.de  +49 (06832) 8080529           www.cass-tech.de   \n",
       "3  info@malermeisterschorn.de   +49 (06832) 128300  www.malermeisterschorn.de   \n",
       "4      luttermann@fst-gmbh.de    +49 (06832) 80563            www.fst-gmbh.de   \n",
       "\n",
       "                      Handelsregister  \\\n",
       "0      PR 81, Amtsgericht Saarbrücken   \n",
       "1  HRB 63518, Amtsgericht Saarbrücken   \n",
       "2  HRB 19163, Amtsgericht Saarbrücken   \n",
       "3  HRB 18614, Amtsgericht Saarbrücken   \n",
       "4  HRB 18570, Amtsgericht Saarbrücken   \n",
       "\n",
       "                                    Rechtsform  ... Holding  \\\n",
       "0                                          NaN  ...     NaN   \n",
       "1  GmbH: Gesellschaft mit beschränkter Haftung  ...     NaN   \n",
       "2  GmbH: Gesellschaft mit beschränkter Haftung  ...     NaN   \n",
       "3  GmbH: Gesellschaft mit beschränkter Haftung  ...     NaN   \n",
       "4  GmbH: Gesellschaft mit beschränkter Haftung  ...     NaN   \n",
       "\n",
       "                              Branche  \\\n",
       "0  Rechtsanwälte und Anwaltskanzleien   \n",
       "1        Speditionen / Bauunternehmen   \n",
       "2        Stahlbau und Leichtmetallbau   \n",
       "3                 Maler und Lackierer   \n",
       "4                            Logistik   \n",
       "\n",
       "                             Unternehmensgegendstand Marken Umsatzsteuer-Id  \\\n",
       "0  Gegenstand des Unternehmens ist die gemeinscha...    NaN             NaN   \n",
       "1                                                NaN    NaN     DE137970178   \n",
       "2                        Metallbau und Konstruktion.    NaN             NaN   \n",
       "3  Gegenstand des Unternehmens ist der Betrieb ei...    NaN             NaN   \n",
       "4  Gegenstand des Unternehmens ist die Durchführu...    NaN             NaN   \n",
       "\n",
       "         Mitarbeiter Stammkapital Umsatz Börse postOfficeBoxNumber  \n",
       "0                NaN          NaN    NaN   NaN                 NaN  \n",
       "1  40 in Deutschland          NaN    NaN   NaN                 NaN  \n",
       "2                NaN  25.000 Euro    NaN   NaN                 NaN  \n",
       "3                NaN  25.000 Euro    NaN   NaN                 NaN  \n",
       "4                NaN  25.000 Euro    NaN   NaN                 NaN  \n",
       "\n",
       "[5 rows x 28 columns]"
      ]
     },
     "execution_count": 49,
     "metadata": {},
     "output_type": "execute_result"
    }
   ],
   "source": [
    "with open(\"firmendb_data/data_firmen.csv\", encoding=\"utf-8\") as f:\n",
    "    df = pd.read_csv(f, delimiter=\";\")\n",
    "\n",
    "df.head()"
   ]
  },
  {
   "cell_type": "code",
   "execution_count": 51,
   "metadata": {},
   "outputs": [
    {
     "data": {
      "text/plain": [
       "(17265, 28)"
      ]
     },
     "execution_count": 51,
     "metadata": {},
     "output_type": "execute_result"
    }
   ],
   "source": [
    "df.shape"
   ]
  },
  {
   "cell_type": "code",
   "execution_count": 50,
   "metadata": {},
   "outputs": [
    {
     "data": {
      "text/plain": [
       "Offizieller_Name            object\n",
       "streetAddress               object\n",
       "postalCode                   int64\n",
       "addressLocality             object\n",
       "Telefon                     object\n",
       "Email                       object\n",
       "Fax                         object\n",
       "Internet                    object\n",
       "Handelsregister             object\n",
       "Rechtsform                  object\n",
       "Hauptsitz                   object\n",
       "Firmengründung             float64\n",
       "Gründung                   float64\n",
       "Inhaber                     object\n",
       "Geschäftsführung            object\n",
       "Vorstand                    object\n",
       "Aufsichtsrat                object\n",
       "Gesellschafter              object\n",
       "Holding                     object\n",
       "Branche                     object\n",
       "Unternehmensgegendstand     object\n",
       "Marken                      object\n",
       "Umsatzsteuer-Id             object\n",
       "Mitarbeiter                 object\n",
       "Stammkapital                object\n",
       "Umsatz                      object\n",
       "Börse                       object\n",
       "postOfficeBoxNumber         object\n",
       "dtype: object"
      ]
     },
     "execution_count": 50,
     "metadata": {},
     "output_type": "execute_result"
    }
   ],
   "source": [
    "df.dtypes"
   ]
  },
  {
   "attachments": {},
   "cell_type": "markdown",
   "metadata": {},
   "source": [
    "## Make dataset smaller"
   ]
  },
  {
   "cell_type": "code",
   "execution_count": 54,
   "metadata": {},
   "outputs": [
    {
     "data": {
      "text/plain": [
       "(14054, 28)"
      ]
     },
     "execution_count": 54,
     "metadata": {},
     "output_type": "execute_result"
    }
   ],
   "source": [
    "df = df.dropna(subset = ['Branche'], axis =0)\n",
    "df = df.dropna(subset = [\"Rechtsform\"], axis=0)\n",
    "df.shape"
   ]
  },
  {
   "cell_type": "code",
   "execution_count": 81,
   "metadata": {},
   "outputs": [
    {
     "data": {
      "text/plain": [
       "Index(['Verwaltung und Management von Unternehmen und Betrieben',\n",
       "       'Dienstleistungen a.n.g.', 'Holding- und Beteiligungsgesellschaften',\n",
       "       'Unternehmensberatung, Unternehmensberater',\n",
       "       'Vermögensberater und sonstige Vermögensberatung',\n",
       "       'Autohandel und Kfz-Handel (Nutzfahrzeuge, LKW etc.)',\n",
       "       'Sachverständige', 'Immobilien-Verwaltung für Dritte',\n",
       "       'Klempnerei, Gasinstallation, Wasserinstallation, Heizungsinstallation und Lüftungsinstallation',\n",
       "       'Transporte, Güterbeförderung im Strassenverkehr',\n",
       "       'Immobilien-Vermittlung für Dritte',\n",
       "       'Verwaltung, Vermietung und Verpachtung von Immobilien',\n",
       "       'Ingenieurbüros für technische Fachplanung', 'Werbung und Marketing',\n",
       "       'Softwareberatung und Softwareentwicklung',\n",
       "       'Hoch- und Tiefbau ohne ausgeprägten Schwerpunkt', 'Apotheken',\n",
       "       'Handel mit Ersatzteilen und Zubehör für Autos, Nutzfahrzeuge, LKW etc.',\n",
       "       'Elektroinstallation', 'Sonstige wirtschaftliche Dienstleistungen',\n",
       "       'Personalvermittlung, Arbeitsvermittlung, Personalservice, Zeitarbeit',\n",
       "       'Versicherungsmakler', 'Maler und Lackierer'],\n",
       "      dtype='object')"
      ]
     },
     "execution_count": 81,
     "metadata": {},
     "output_type": "execute_result"
    }
   ],
   "source": [
    "# df[\"Branche\"].value_counts()[\"Vermögensberater und sonstige Vermögensberatung\"]\n",
    "branche_counts = df[\"Branche\"].value_counts()\n",
    "reduced_industries = branche_counts[branche_counts >= 100].index\n",
    "reduced_industries"
   ]
  },
  {
   "cell_type": "code",
   "execution_count": 82,
   "metadata": {},
   "outputs": [
    {
     "data": {
      "text/plain": [
       "GmbH: Gesellschaft mit beschränkter Haftung                                                                           4024\n",
       "GmbH + Co. KG: Gesellschaft mit beschränkter Haftung und Compagnie Kommanditgesellschaft                               622\n",
       "UG (haftungsbeschränkt): Unternehmergesellschaft (haftungsbeschränkt)                                                  301\n",
       "e.K.: Eingetragener Kaufmann/Eingetragene Kauffrau (auch e.Kfm. oder e.Kffr.)                                          283\n",
       "AG: Aktiengesellschaft                                                                                                  61\n",
       "KG: Kommanditgesellschaft                                                                                               40\n",
       "OHG: Offene Handelsgesellschaft                                                                                         37\n",
       "eG: Eingetragene Genossenschaft (auch e.G.)                                                                             25\n",
       "Ltd.: Limited                                                                                                           16\n",
       "AG + Co. KG: Aktiengesellschaft und Compagnie Kommanditgesellschaft                                                     13\n",
       "Ltd. + Co. KG: Limited und Compagnie Kommanditgesellschaft                                                              10\n",
       "UG (haftungsbeschränkt) + Co. KG: Unternehmergesellschaft (haftungsbeschränkt) und Compagnie Kommanditgesellschaft       9\n",
       "gGmbH: Gemeinnützige Gesellschaft mit beschränkter Haftung                                                               8\n",
       "e.V.: Eingetragener Verein                                                                                               4\n",
       "GmbH + Co. KGaA: Gesellschaft mit beschränkter Haftung und Compagnie Kommanditgesellschaft auf Aktien                    2\n",
       "SE: Europäische Gesellschaft (Societas Europaea)                                                                         1\n",
       "Stiftung + Co. KG: Stiftung und Compagnie Kommanditgesellschaft                                                          1\n",
       "PartG: Partnerschaftsgesellschaft                                                                                        1\n",
       "Name: Rechtsform, dtype: int64"
      ]
     },
     "execution_count": 82,
     "metadata": {},
     "output_type": "execute_result"
    }
   ],
   "source": [
    "df = df[df['Branche'].isin(reduced_industries)]\n",
    "df[\"Rechtsform\"].value_counts()"
   ]
  },
  {
   "cell_type": "code",
   "execution_count": 86,
   "metadata": {},
   "outputs": [
    {
     "data": {
      "text/plain": [
       "(5432, 28)"
      ]
     },
     "execution_count": 86,
     "metadata": {},
     "output_type": "execute_result"
    }
   ],
   "source": [
    "rechtsform_counts = df[\"Rechtsform\"].value_counts()\n",
    "reduced_rechtsform = rechtsform_counts[rechtsform_counts >= 10].index\n",
    "df = df[df['Rechtsform'].isin(reduced_rechtsform)]\n",
    "df.shape"
   ]
  },
  {
   "attachments": {},
   "cell_type": "markdown",
   "metadata": {},
   "source": [
    "## Assign integers to categorical data"
   ]
  },
  {
   "cell_type": "code",
   "execution_count": 87,
   "metadata": {},
   "outputs": [],
   "source": [
    "d = dict()\n",
    "for i, x in enumerate(df[\"Rechtsform\"].unique()):\n",
    "    d[x] = i\n",
    "df['Rechtsform'] = df['Rechtsform'].map(d) # what happens with n/a's?\n",
    "\n",
    "d = dict()\n",
    "for i, x in enumerate(df[\"Branche\"].unique()):\n",
    "    d[x] = i\n",
    "df[\"Branche\"] = df[\"Branche\"].map(d)\n",
    "\n",
    "d = dict()\n",
    "for i, x in enumerate(df[\"addressLocality\"].unique()):\n",
    "    d[x] = i\n",
    "df[\"addressLocality\"] = df[\"addressLocality\"].map(d)"
   ]
  },
  {
   "attachments": {},
   "cell_type": "markdown",
   "metadata": {},
   "source": [
    "## Choose features and classes"
   ]
  },
  {
   "cell_type": "code",
   "execution_count": 88,
   "metadata": {},
   "outputs": [
    {
     "name": "stdout",
     "output_type": "stream",
     "text": [
      "       Branche  Rechtsform\n",
      "3            0           0\n",
      "5            1           1\n",
      "6            2           0\n",
      "7            3           0\n",
      "11           4           0\n",
      "...        ...         ...\n",
      "17251       14           0\n",
      "17253       13           0\n",
      "17254       11           0\n",
      "17255        6           0\n",
      "17261       21           2\n",
      "\n",
      "[5432 rows x 2 columns]\n",
      "3         0\n",
      "5         0\n",
      "6         0\n",
      "7         0\n",
      "11        0\n",
      "         ..\n",
      "17251    51\n",
      "17253    51\n",
      "17254    51\n",
      "17255    51\n",
      "17261    51\n",
      "Name: addressLocality, Length: 5432, dtype: int64\n"
     ]
    }
   ],
   "source": [
    "# features\n",
    "features = [\"Branche\", \"Rechtsform\"]\n",
    "X = df[features] # maybe Stammkapital, Mitarbeiter, Umsatz\n",
    "# target\n",
    "y = df[\"addressLocality\"]\n",
    "print(X)\n",
    "print(y)"
   ]
  },
  {
   "attachments": {},
   "cell_type": "markdown",
   "metadata": {},
   "source": [
    "## Decision Tree"
   ]
  },
  {
   "cell_type": "code",
   "execution_count": 89,
   "metadata": {},
   "outputs": [],
   "source": [
    "dtree = DecisionTreeClassifier()\n",
    "dtree = dtree.fit(X, y)"
   ]
  },
  {
   "cell_type": "code",
   "execution_count": 95,
   "metadata": {},
   "outputs": [
    {
     "data": {
      "text/plain": [
       "<Figure size 1440x1440 with 0 Axes>"
      ]
     },
     "execution_count": 95,
     "metadata": {},
     "output_type": "execute_result"
    },
    {
     "data": {
      "image/png": "[encoded data removed]",
      "text/plain": [
       "<Figure size 432x288 with 1 Axes>"
      ]
     },
     "metadata": {
      "needs_background": "light"
     },
     "output_type": "display_data"
    },
    {
     "data": {
      "text/plain": [
       "<Figure size 1440x1440 with 0 Axes>"
      ]
     },
     "metadata": {},
     "output_type": "display_data"
    }
   ],
   "source": [
    "tree.plot_tree(dtree, feature_names=features)\n",
    "# plt.figure(figsize=(20,20)) \n",
    "# f = plt.figure()\n",
    "# f.set_figwidth(10)\n",
    "# f.set_figheight(10)"
   ]
  },
  {
   "attachments": {},
   "cell_type": "markdown",
   "metadata": {},
   "source": [
    "## Try to predict location"
   ]
  }
 ],
 "metadata": {
  "kernelspec": {
   "display_name": "Python 3",
   "language": "python",
   "name": "python3"
  },
  "language_info": {
   "codemirror_mode": {
    "name": "ipython",
    "version": 3
   },
   "file_extension": ".py",
   "mimetype": "text/x-python",
   "name": "python",
   "nbconvert_exporter": "python",
   "pygments_lexer": "ipython3",
   "version": "3.9.6"
  },
  "orig_nbformat": 4
 },
 "nbformat": 4,
 "nbformat_minor": 2
}
